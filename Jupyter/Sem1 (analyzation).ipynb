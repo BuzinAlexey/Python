{
 "cells": [
  {
   "cell_type": "markdown",
   "id": "9b2ae241",
   "metadata": {},
   "source": [
    "# Задание 1. \n",
    "1.1 Соедините два словаря в один \n",
    "1.2 Напишите функцию, которая на вход принимает два словаря и возвращает один объединенный словарь"
   ]
  },
  {
   "cell_type": "code",
   "execution_count": 18,
   "id": "65250c02",
   "metadata": {},
   "outputs": [],
   "source": [
    "dict1 = {'One': 1, 'Two': 2, 'Three': 3}"
   ]
  },
  {
   "cell_type": "code",
   "execution_count": 19,
   "id": "7e854c2b",
   "metadata": {},
   "outputs": [],
   "source": [
    "dict2 = {'Four': 4, 'Five': 5, 'Six': 6}"
   ]
  },
  {
   "cell_type": "code",
   "execution_count": 20,
   "id": "a1ed75ee",
   "metadata": {},
   "outputs": [],
   "source": [
    "def my_dict(dict1:dict, dict2: dict)-> dict:\n",
    "    dict1.update(dict2)\n",
    "    return dict1"
   ]
  },
  {
   "cell_type": "code",
   "execution_count": 21,
   "id": "ee7b9d07",
   "metadata": {},
   "outputs": [
    {
     "name": "stdout",
     "output_type": "stream",
     "text": [
      "{'One': 1, 'Two': 2, 'Three': 3, 'Four': 4, 'Five': 5, 'Six': 6}\n"
     ]
    }
   ],
   "source": [
    "print (my_dict(dict1,dict2))"
   ]
  },
  {
   "cell_type": "markdown",
   "id": "4f5787b0",
   "metadata": {},
   "source": [
    "# Задание 2\n",
    "Напишите функцию, которая из двух списков, делает один словарь, где элементы из первого списка - ключи, а элементы из второго списка - значения\n",
    "2.1 Используя цикл for\n",
    "2.2 Используя dict comprehensions"
   ]
  },
  {
   "cell_type": "code",
   "execution_count": 22,
   "id": "6760caff",
   "metadata": {},
   "outputs": [],
   "source": [
    "keys = ['Ones', 'Two', 'Three']\n",
    "values = [1, 2, 3]\n",
    "def make_dict(keys: list, values: list) -> dict:\n",
    "    len_dict = len(keys)\n",
    "    my_dict = {}\n",
    "    for i in range(len_dict):\n",
    "        my_dict[keys[i]] = values[i]\n",
    "    return my_dict "
   ]
  },
  {
   "cell_type": "code",
   "execution_count": 23,
   "id": "ee0d1673",
   "metadata": {},
   "outputs": [
    {
     "name": "stdout",
     "output_type": "stream",
     "text": [
      "{'Ones': 1, 'Two': 2, 'Three': 3}\n"
     ]
    }
   ],
   "source": [
    "my_dict2 = {i: j for (i,j) in zip(keys,values)}\n",
    "print(my_dict2)"
   ]
  },
  {
   "cell_type": "code",
   "execution_count": 24,
   "id": "0620f85e",
   "metadata": {},
   "outputs": [
    {
     "name": "stdout",
     "output_type": "stream",
     "text": [
      "[('Ones', 1), ('Two', 2), ('Three', 3)]\n"
     ]
    }
   ],
   "source": [
    "print(list(zip(keys, values)))"
   ]
  },
  {
   "cell_type": "code",
   "execution_count": null,
   "id": "03a0a2e4",
   "metadata": {},
   "outputs": [],
   "source": []
  },
  {
   "cell_type": "markdown",
   "id": "9e4ead45",
   "metadata": {},
   "source": [
    "# Задание 3. \n",
    "Извлеките только два ключа name и age из представленного словаря"
   ]
  },
  {
   "cell_type": "markdown",
   "id": "c429264f",
   "metadata": {},
   "source": [
    "3.1 Напишите функцию с циклом for \n",
    "Функция на вход принимает: \n",
    "  🌟  исходный словарь \n",
    "\n",
    "  🌟  ключи, которые нужно извлечь (аргумент по \n",
    "умолчанию)\n",
    "На выходе словарь с нужными ключами Используйте аннотирование типов \n",
    "3.2 Используя dict comprehensions"
   ]
  },
  {
   "cell_type": "code",
   "execution_count": 25,
   "id": "4b19f06b",
   "metadata": {},
   "outputs": [],
   "source": [
    "client_dict = {\n",
    "    \"name\": \"John\",\n",
    "    \"age\": 25,\n",
    "    \"salary\": 500000,\n",
    "    \"city\": \"Moscow\"\n",
    "}\n",
    "keys = [\"name\", \"age\"]"
   ]
  },
  {
   "cell_type": "code",
   "execution_count": 26,
   "id": "99c267b4",
   "metadata": {},
   "outputs": [],
   "source": [
    "def task_3(client_dict: dict, keys: list) -> dict:\n",
    "    my_dict = {}\n",
    "    for key in keys:\n",
    "        my_dict[key] = client_dict[key]\n",
    "    return my_dict"
   ]
  },
  {
   "cell_type": "code",
   "execution_count": 27,
   "id": "cd753611",
   "metadata": {},
   "outputs": [
    {
     "data": {
      "text/plain": [
       "{'salary': 500000, 'city': 'Moscow'}"
      ]
     },
     "execution_count": 27,
     "metadata": {},
     "output_type": "execute_result"
    }
   ],
   "source": [
    "task_3(client_dict, keys=['salary', 'city'])"
   ]
  },
  {
   "cell_type": "code",
   "execution_count": 28,
   "id": "e3b1adab",
   "metadata": {},
   "outputs": [
    {
     "data": {
      "text/plain": [
       "{'name': 'John', 'age': 25}"
      ]
     },
     "execution_count": 28,
     "metadata": {},
     "output_type": "execute_result"
    }
   ],
   "source": [
    "my_dict = {key: client_dict[key] for key in keys}\n",
    "my_dict"
   ]
  },
  {
   "cell_type": "markdown",
   "id": "ebf2b104",
   "metadata": {},
   "source": [
    "# Задание 4"
   ]
  },
  {
   "cell_type": "markdown",
   "id": "05a42dad",
   "metadata": {},
   "source": [
    "4.1 Сгенерируйте случайные целые числа от 0 до 100 в количестве 5 штук с помощью модуля random \n",
    "  ●  Зафиксируйте псевдогенерацию, чтобы сгенерированные значения всегда были одинаковые \n",
    "\n",
    "  ●  Используйте list comprehensions \n"
   ]
  },
  {
   "cell_type": "code",
   "execution_count": 29,
   "id": "8f4cf37e",
   "metadata": {},
   "outputs": [],
   "source": [
    "import random\n",
    "random.seed(48)"
   ]
  },
  {
   "cell_type": "code",
   "execution_count": 30,
   "id": "6b1b4ca2",
   "metadata": {},
   "outputs": [
    {
     "data": {
      "text/plain": [
       "[70, 40, 16, 71, 91]"
      ]
     },
     "execution_count": 30,
     "metadata": {},
     "output_type": "execute_result"
    }
   ],
   "source": [
    "[random.randint(0, 100) for i in range(5)]"
   ]
  },
  {
   "cell_type": "markdown",
   "id": "ba908094",
   "metadata": {},
   "source": [
    "### Задание 5.\n",
    "Напишите функцию, которая может принимать любое количество трат пользователя и считать сумму и среднее.\n",
    "🌟 На вход поступают целочисленные значения в любом количестве\n",
    "🌟 На выходе словарь с ключами суммы трат и средней траты"
   ]
  },
  {
   "cell_type": "code",
   "execution_count": 31,
   "id": "99b424fd",
   "metadata": {},
   "outputs": [],
   "source": [
    "def aggregator(*args):\n",
    "    return {\n",
    "        \"sum\": sum(args),\n",
    "        \"mean\": sum(args)/len(args)\n",
    "    }"
   ]
  },
  {
   "cell_type": "code",
   "execution_count": 32,
   "id": "b30493d4",
   "metadata": {},
   "outputs": [
    {
     "data": {
      "text/plain": [
       "{'sum': 25, 'mean': 8.333333333333334}"
      ]
     },
     "execution_count": 32,
     "metadata": {},
     "output_type": "execute_result"
    }
   ],
   "source": [
    " aggregator(5,10,10)"
   ]
  },
  {
   "cell_type": "code",
   "execution_count": null,
   "id": "d0e7a6d2",
   "metadata": {},
   "outputs": [],
   "source": []
  }
 ],
 "metadata": {
  "kernelspec": {
   "display_name": "Python 3.11.0 ('project': venv)",
   "language": "python",
   "name": "python3"
  },
  "language_info": {
   "codemirror_mode": {
    "name": "ipython",
    "version": 3
   },
   "file_extension": ".py",
   "mimetype": "text/x-python",
   "name": "python",
   "nbconvert_exporter": "python",
   "pygments_lexer": "ipython3",
   "version": "3.11.0"
  },
  "vscode": {
   "interpreter": {
    "hash": "a8e364070749eed9e584f46e0ff2b96c45a3477600fe79968966df9503ae3685"
   }
  }
 },
 "nbformat": 4,
 "nbformat_minor": 5
}
